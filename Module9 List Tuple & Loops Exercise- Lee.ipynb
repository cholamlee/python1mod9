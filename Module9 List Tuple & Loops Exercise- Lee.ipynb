{
 "cells": [
  {
   "cell_type": "markdown",
   "metadata": {},
   "source": [
    "### Exercise 1\n",
    "Ask a user for 5 names and place each one in to a list called <i>names</i>. Then, print <i>names</i>."
   ]
  },
  {
   "cell_type": "code",
   "execution_count": 1,
   "metadata": {},
   "outputs": [
    {
     "name": "stdout",
     "output_type": "stream",
     "text": [
      "Enter the first name Art\n",
      "Enter the second name Bill\n",
      "Enter the third name Cindy\n",
      "Enter the fourth name Dave\n",
      "Enter the fifth name Edward\n",
      "['Art', 'Bill', 'Cindy', 'Dave', 'Edward']\n"
     ]
    }
   ],
   "source": [
    "name1 = input(\"Enter the first name \")\n",
    "name2 = input(\"Enter the second name \")\n",
    "name3 = input(\"Enter the third name \")\n",
    "name4 = input(\"Enter the fourth name \")\n",
    "name5 = input(\"Enter the fifth name \")\n",
    "names = [name1, name2, name3, name4, name5]\n",
    "print (names)"
   ]
  },
  {
   "cell_type": "markdown",
   "metadata": {},
   "source": [
    "### Exercise 2\n",
    "Print out a randomly selected name in the names list from exercise 1."
   ]
  },
  {
   "cell_type": "code",
   "execution_count": 2,
   "metadata": {},
   "outputs": [
    {
     "name": "stdout",
     "output_type": "stream",
     "text": [
      "Cindy\n"
     ]
    }
   ],
   "source": [
    "import random as rand\n",
    "print(rand.choice(names))\n"
   ]
  },
  {
   "cell_type": "markdown",
   "metadata": {},
   "source": [
    "### Exercise 3: \n",
    "Fix bugs in the next cell.  It is trying to create a list for even numbers between two numbers provided by a user.\n"
   ]
  },
  {
   "cell_type": "code",
   "execution_count": 5,
   "metadata": {},
   "outputs": [
    {
     "name": "stdout",
     "output_type": "stream",
     "text": [
      "Enter a starting number: 2\n",
      "Enter an ending number: 28\n",
      "[2, 3, 4, 5, 6, 7, 8, 9, 10, 11, 12, 13, 14, 15, 16, 17, 18, 19, 20, 21, 22, 23, 24, 25, 26, 27, 28]\n",
      "[2, 4, 6, 8, 10, 12, 14, 16, 18, 20, 22, 24, 26, 28]\n"
     ]
    }
   ],
   "source": [
    "no1 = input(\"Enter a starting number: \")\n",
    "no2 = input(\"Enter an ending number: \")\n",
    "\n",
    "numbers = []\n",
    "evens = []\n",
    "\n",
    "for i in range(int(no1), int(no2)+1) :  # cast the numbers into INT and the stop number (not include) no2 + 1\n",
    "    numbers.append(i) \n",
    "    if (i%2 == 0):    # even number\n",
    "        evens.append(i)\n",
    "    \n",
    "print(numbers)    \n",
    "print(evens)"
   ]
  },
  {
   "cell_type": "markdown",
   "metadata": {},
   "source": [
    "### Exercise 4\n",
    "Finish writing a program to generate 10 random numbers between 1 and 100 and save it to a list.\n",
    "Finally, print out the original numbers followed by the smallest, largest, and average number."
   ]
  },
  {
   "cell_type": "code",
   "execution_count": 6,
   "metadata": {},
   "outputs": [
    {
     "name": "stdout",
     "output_type": "stream",
     "text": [
      "Org Numbers are [5, 24, 76, 32, 91, 49, 63, 49, 57, 66]\n",
      "Sorted numbers are [5, 24, 32, 49, 49, 57, 63, 66, 76, 91]\n",
      "Largest number is 91\n",
      "Smallest number is 5\n",
      "Average is 51.2\n"
     ]
    }
   ],
   "source": [
    "import random as rand\n",
    "\n",
    "numbers = []\n",
    "total = 0\n",
    "org_numbs =[]\n",
    "\n",
    "for i in range(1, 11) :\n",
    "    numb = rand.randint(1, 100)\n",
    "    #print (numb)\n",
    "    total += numb\n",
    "    #org_numbs=numbers.append(numb) cannot append and equal\n",
    "    #org_numbs.append(numb) \n",
    "    numbers.append(numb)\n",
    "   \n",
    "    \n",
    "org_numbs = numbers   \n",
    "    \n",
    "   \n",
    "# some code needed here to find the smallest, largest, and average number\n",
    "\n",
    "\n",
    "\n",
    "#avg=total/len(numbers) #sum of list / len of list\n",
    "\n",
    "print(f\"Org Numbers are {org_numbs}\")\n",
    "numbers.sort()\n",
    "print(f\"Sorted numbers are {numbers}\")\n",
    "print(f\"Largest number is {numbers[-1]}\")\n",
    "print(f\"Smallest number is {numbers[0]}\")\n",
    "print(f\"Average is {total/len(numbers)}\") "
   ]
  },
  {
   "cell_type": "markdown",
   "metadata": {},
   "source": [
    "### Exercise 5\n",
    "\n",
    "Write a function called <b>draw_triangle()</b> to draw a right triangle where the base of the triangle is the number passed in as an arguement. Call <b>draw_triangle()</b> to show it works.\n",
    "\n",
    "e.g. <b>draw_triangle(7)</b> draws as below:\n",
    "\n",
    "    *\n",
    "    **\n",
    "    ***\n",
    "    ****\n",
    "    *****\n",
    "    ******\n",
    "    *******\n"
   ]
  },
  {
   "cell_type": "code",
   "execution_count": 7,
   "metadata": {},
   "outputs": [],
   "source": [
    "# write code for draw_triangle() function\n",
    "\n",
    "def draw_triangle(base):\n",
    "   i = 1 \n",
    "   while i <= base:\n",
    "        print (\"*\" * i) \n",
    "        i = i +1 \n"
   ]
  },
  {
   "cell_type": "code",
   "execution_count": 8,
   "metadata": {},
   "outputs": [
    {
     "name": "stdout",
     "output_type": "stream",
     "text": [
      "Enter a number: 12\n",
      "*\n",
      "**\n",
      "***\n",
      "****\n",
      "*****\n",
      "******\n",
      "*******\n",
      "********\n",
      "*********\n",
      "**********\n",
      "***********\n",
      "************\n"
     ]
    }
   ],
   "source": [
    "base = int(input(\"Enter a number: \"))\n",
    "draw_triangle(base)"
   ]
  },
  {
   "cell_type": "code",
   "execution_count": null,
   "metadata": {},
   "outputs": [],
   "source": []
  }
 ],
 "metadata": {
  "kernelspec": {
   "display_name": "Python 3 (ipykernel)",
   "language": "python",
   "name": "python3"
  },
  "language_info": {
   "codemirror_mode": {
    "name": "ipython",
    "version": 3
   },
   "file_extension": ".py",
   "mimetype": "text/x-python",
   "name": "python",
   "nbconvert_exporter": "python",
   "pygments_lexer": "ipython3",
   "version": "3.10.9"
  }
 },
 "nbformat": 4,
 "nbformat_minor": 4
}
